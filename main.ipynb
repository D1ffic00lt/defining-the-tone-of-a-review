{
 "cells": [
  {
   "cell_type": "code",
   "execution_count": 339,
   "metadata": {
    "collapsed": true
   },
   "outputs": [],
   "source": [
    "import warnings                                                 # библиотека ддя отключения предупреждений\n",
    "import nltk                                                     # библиотека для обработки текста\n",
    "import string                                                   # библиотека, содержащая почти всю пунктуацию\n",
    "import pickle                                                   # библиотека для сохранения модели\n",
    "import pandas as pd                                             # библиотека для чтения и записи данных\n",
    "\n",
    "from xgboost import XGBClassifier                               # модель xgboost для обучения\n",
    "import matplotlib.pyplot as plt                                 # библиотека для визуализации данных\n",
    "from tqdm import tqdm                                           # библиотека для визуализации процессов\n",
    "from collections import Counter                                 # функция для подсчёта повторов слов в данных\n",
    "from nltk.corpus import stopwords                               # список стоп-слов\n",
    "from nltk.stem import SnowballStemmer                           # функция для обработки слов\n",
    "from nltk.tokenize import word_tokenize                         # функция для токинизирования слов\n",
    "from sklearn.model_selection import train_test_split            # библиотека для разделения на тренировочную и тестовую выборки\n",
    "from sklearn.feature_extraction.text import TfidfVectorizer     # функция для векторизации предложения\n",
    "from sklearn.linear_model import LogisticRegression             # линейная модуль для обучения\n",
    "from sklearn.metrics import classification_report               # метрика\n",
    "from sklearn.ensemble import GradientBoostingClassifier         # ещё модель"
   ]
  },
  {
   "cell_type": "code",
   "execution_count": 236,
   "outputs": [],
   "source": [
    "warnings.filterwarnings(\"ignore\")"
   ],
   "metadata": {
    "collapsed": false,
    "pycharm": {
     "name": "#%%\n"
    }
   }
  },
  {
   "cell_type": "code",
   "execution_count": 237,
   "outputs": [],
   "source": [
    "data_train = pd.read_csv(\"train.csv\", sep=\"\\t\")"
   ],
   "metadata": {
    "collapsed": false,
    "pycharm": {
     "name": "#%%\n"
    }
   }
  },
  {
   "cell_type": "code",
   "execution_count": 238,
   "outputs": [
    {
     "data": {
      "text/plain": "   idx     Score                                               Text\n0    0  Positive  В Альфа-Банке работает замечательная девушка -...\n1    1  Negative  Оформляя рассрочку в м. Видео в меге тёплый ст...\n2    2  Positive  Очень порадовала оперативность работы в банке....\n3    3  Negative  Имела неосторожность оформить потреб. кредит в...\n4    4  Negative  Небольшая предыстория: Нашел на сайте MDM банк...",
      "text/html": "<div>\n<style scoped>\n    .dataframe tbody tr th:only-of-type {\n        vertical-align: middle;\n    }\n\n    .dataframe tbody tr th {\n        vertical-align: top;\n    }\n\n    .dataframe thead th {\n        text-align: right;\n    }\n</style>\n<table border=\"1\" class=\"dataframe\">\n  <thead>\n    <tr style=\"text-align: right;\">\n      <th></th>\n      <th>idx</th>\n      <th>Score</th>\n      <th>Text</th>\n    </tr>\n  </thead>\n  <tbody>\n    <tr>\n      <th>0</th>\n      <td>0</td>\n      <td>Positive</td>\n      <td>В Альфа-Банке работает замечательная девушка -...</td>\n    </tr>\n    <tr>\n      <th>1</th>\n      <td>1</td>\n      <td>Negative</td>\n      <td>Оформляя рассрочку в м. Видео в меге тёплый ст...</td>\n    </tr>\n    <tr>\n      <th>2</th>\n      <td>2</td>\n      <td>Positive</td>\n      <td>Очень порадовала оперативность работы в банке....</td>\n    </tr>\n    <tr>\n      <th>3</th>\n      <td>3</td>\n      <td>Negative</td>\n      <td>Имела неосторожность оформить потреб. кредит в...</td>\n    </tr>\n    <tr>\n      <th>4</th>\n      <td>4</td>\n      <td>Negative</td>\n      <td>Небольшая предыстория: Нашел на сайте MDM банк...</td>\n    </tr>\n  </tbody>\n</table>\n</div>"
     },
     "execution_count": 238,
     "metadata": {},
     "output_type": "execute_result"
    }
   ],
   "source": [
    "data_train.head()"
   ],
   "metadata": {
    "collapsed": false,
    "pycharm": {
     "name": "#%%\n"
    }
   }
  },
  {
   "cell_type": "code",
   "execution_count": 239,
   "outputs": [],
   "source": [
    "data_train = data_train.drop(\"idx\", axis=1)"
   ],
   "metadata": {
    "collapsed": false,
    "pycharm": {
     "name": "#%%\n"
    }
   }
  },
  {
   "cell_type": "code",
   "execution_count": 240,
   "outputs": [],
   "source": [
    "data_train.Score = data_train.Score.apply(lambda x: 1 if x == \"Positive\" else 0)"
   ],
   "metadata": {
    "collapsed": false,
    "pycharm": {
     "name": "#%%\n"
    }
   }
  },
  {
   "cell_type": "code",
   "execution_count": 241,
   "outputs": [
    {
     "data": {
      "text/plain": "   Score                                               Text\n0      1  В Альфа-Банке работает замечательная девушка -...\n1      0  Оформляя рассрочку в м. Видео в меге тёплый ст...\n2      1  Очень порадовала оперативность работы в банке....\n3      0  Имела неосторожность оформить потреб. кредит в...\n4      0  Небольшая предыстория: Нашел на сайте MDM банк...",
      "text/html": "<div>\n<style scoped>\n    .dataframe tbody tr th:only-of-type {\n        vertical-align: middle;\n    }\n\n    .dataframe tbody tr th {\n        vertical-align: top;\n    }\n\n    .dataframe thead th {\n        text-align: right;\n    }\n</style>\n<table border=\"1\" class=\"dataframe\">\n  <thead>\n    <tr style=\"text-align: right;\">\n      <th></th>\n      <th>Score</th>\n      <th>Text</th>\n    </tr>\n  </thead>\n  <tbody>\n    <tr>\n      <th>0</th>\n      <td>1</td>\n      <td>В Альфа-Банке работает замечательная девушка -...</td>\n    </tr>\n    <tr>\n      <th>1</th>\n      <td>0</td>\n      <td>Оформляя рассрочку в м. Видео в меге тёплый ст...</td>\n    </tr>\n    <tr>\n      <th>2</th>\n      <td>1</td>\n      <td>Очень порадовала оперативность работы в банке....</td>\n    </tr>\n    <tr>\n      <th>3</th>\n      <td>0</td>\n      <td>Имела неосторожность оформить потреб. кредит в...</td>\n    </tr>\n    <tr>\n      <th>4</th>\n      <td>0</td>\n      <td>Небольшая предыстория: Нашел на сайте MDM банк...</td>\n    </tr>\n  </tbody>\n</table>\n</div>"
     },
     "execution_count": 241,
     "metadata": {},
     "output_type": "execute_result"
    }
   ],
   "source": [
    "data_train.head()"
   ],
   "metadata": {
    "collapsed": false,
    "pycharm": {
     "name": "#%%\n"
    }
   }
  },
  {
   "cell_type": "code",
   "execution_count": 242,
   "outputs": [
    {
     "data": {
      "text/plain": "27998"
     },
     "execution_count": 242,
     "metadata": {},
     "output_type": "execute_result"
    }
   ],
   "source": [
    "data_train.size"
   ],
   "metadata": {
    "collapsed": false,
    "pycharm": {
     "name": "#%%\n"
    }
   }
  },
  {
   "cell_type": "code",
   "execution_count": 243,
   "outputs": [
    {
     "name": "stdout",
     "output_type": "stream",
     "text": [
      "<class 'pandas.core.frame.DataFrame'>\n",
      "RangeIndex: 13999 entries, 0 to 13998\n",
      "Data columns (total 2 columns):\n",
      " #   Column  Non-Null Count  Dtype \n",
      "---  ------  --------------  ----- \n",
      " 0   Score   13999 non-null  int64 \n",
      " 1   Text    13999 non-null  object\n",
      "dtypes: int64(1), object(1)\n",
      "memory usage: 218.9+ KB\n"
     ]
    }
   ],
   "source": [
    "data_train.info()"
   ],
   "metadata": {
    "collapsed": false,
    "pycharm": {
     "name": "#%%\n"
    }
   }
  },
  {
   "cell_type": "code",
   "execution_count": 244,
   "outputs": [
    {
     "data": {
      "text/plain": "Score    0\nText     0\ndtype: int64"
     },
     "execution_count": 244,
     "metadata": {},
     "output_type": "execute_result"
    }
   ],
   "source": [
    "data_train.isna().sum()"
   ],
   "metadata": {
    "collapsed": false,
    "pycharm": {
     "name": "#%%\n"
    }
   }
  },
  {
   "cell_type": "code",
   "execution_count": 245,
   "outputs": [],
   "source": [
    "data_train = data_train.drop_duplicates()"
   ],
   "metadata": {
    "collapsed": false,
    "pycharm": {
     "name": "#%%\n"
    }
   }
  },
  {
   "cell_type": "code",
   "execution_count": 246,
   "outputs": [
    {
     "data": {
      "text/plain": "Text(0.5, 1.0, 'Отношение сообщений')"
     },
     "execution_count": 246,
     "metadata": {},
     "output_type": "execute_result"
    },
    {
     "data": {
      "text/plain": "<Figure size 432x288 with 1 Axes>",
      "image/png": "[encoded data removed]"
     },
     "metadata": {},
     "output_type": "display_data"
    }
   ],
   "source": [
    "labels = [f\"{len(data_train.loc[data_train.Score == 1])}\" +\n",
    "          \" Negative\", f\"{len(data_train.loc[data_train.Score == 0])}\" + \" Positive\"]\n",
    "fig, ax = plt.subplots()\n",
    "ax.pie([len(data_train.loc[data_train.Score == 1]), len(data_train.loc[data_train.Score == 0])], labels=labels)\n",
    "ax.axis(\"equal\")\n",
    "plt.title(\"Отношение сообщений\")"
   ],
   "metadata": {
    "collapsed": false,
    "pycharm": {
     "name": "#%%\n"
    }
   }
  },
  {
   "cell_type": "code",
   "execution_count": 247,
   "outputs": [
    {
     "name": "stderr",
     "output_type": "stream",
     "text": [
      "[nltk_data] Error loading stopwords: <urlopen error [SSL:\n",
      "[nltk_data]     CERTIFICATE_VERIFY_FAILED] certificate verify failed:\n",
      "[nltk_data]     unable to get local issuer certificate (_ssl.c:1129)>\n"
     ]
    },
    {
     "data": {
      "text/plain": "False"
     },
     "execution_count": 247,
     "metadata": {},
     "output_type": "execute_result"
    }
   ],
   "source": [
    "nltk.download('stopwords')"
   ],
   "metadata": {
    "collapsed": false,
    "pycharm": {
     "name": "#%%\n"
    }
   }
  },
  {
   "cell_type": "code",
   "execution_count": 308,
   "outputs": [],
   "source": [
    "snowball = SnowballStemmer(language=\"russian\")\n",
    "russian_stop_words = stopwords.words(\"russian\")\n",
    "punct = string.punctuation + \"«–»“”\""
   ],
   "metadata": {
    "collapsed": false,
    "pycharm": {
     "name": "#%%\n"
    }
   }
  },
  {
   "cell_type": "code",
   "execution_count": 309,
   "outputs": [],
   "source": [
    "def tokinize_sentence(sentence: str):\n",
    "    sentence = sentence.strip().lower()\n",
    "    sentence.replace(\"\\t\", \" \")\n",
    "    for i in punct:\n",
    "        if i in sentence and i != \" \":\n",
    "            sentence = sentence.replace(i, ' ')\n",
    "    tokens = word_tokenize(sentence, language=\"russian\")\n",
    "    tokens = [i for i in tokens if i not in russian_stop_words]\n",
    "    tokens = [snowball.stem(i) for i in tokens]\n",
    "    tokens = [i for i in tokens if i not in [\"банк\", \"карт\", \"эт\", \"мо\", \"котор\", \"г\", \"т\"]]\n",
    "    return \" \".join(tokens)"
   ],
   "metadata": {
    "collapsed": false,
    "pycharm": {
     "name": "#%%\n"
    }
   }
  },
  {
   "cell_type": "code",
   "execution_count": 310,
   "outputs": [
    {
     "name": "stdout",
     "output_type": "stream",
     "text": [
      "123 abc abc acb\n"
     ]
    }
   ],
   "source": [
    "print(tokinize_sentence(\"123 abc Abc ACb., & банка \"))"
   ],
   "metadata": {
    "collapsed": false,
    "pycharm": {
     "name": "#%%\n"
    }
   }
  },
  {
   "cell_type": "code",
   "execution_count": 311,
   "outputs": [
    {
     "name": "stderr",
     "output_type": "stream",
     "text": [
      "100%|██████████| 13998/13998 [01:06<00:00, 209.66it/s]\n"
     ]
    },
    {
     "data": {
      "text/plain": "   Score                                               Text\n0      1  альф работа замечательн девушк ильясов орн веж...\n1      0  оформл рассрочк м виде мег тепл стан попрос ме...\n2      1  очен порадова оперативн работ заказа интернет ...\n3      0  имел неосторожн оформ потреб кред альф очен жа...\n4      0  небольш предыстор нашел сайт mdm интересн ко б...",
      "text/html": "<div>\n<style scoped>\n    .dataframe tbody tr th:only-of-type {\n        vertical-align: middle;\n    }\n\n    .dataframe tbody tr th {\n        vertical-align: top;\n    }\n\n    .dataframe thead th {\n        text-align: right;\n    }\n</style>\n<table border=\"1\" class=\"dataframe\">\n  <thead>\n    <tr style=\"text-align: right;\">\n      <th></th>\n      <th>Score</th>\n      <th>Text</th>\n    </tr>\n  </thead>\n  <tbody>\n    <tr>\n      <th>0</th>\n      <td>1</td>\n      <td>альф работа замечательн девушк ильясов орн веж...</td>\n    </tr>\n    <tr>\n      <th>1</th>\n      <td>0</td>\n      <td>оформл рассрочк м виде мег тепл стан попрос ме...</td>\n    </tr>\n    <tr>\n      <th>2</th>\n      <td>1</td>\n      <td>очен порадова оперативн работ заказа интернет ...</td>\n    </tr>\n    <tr>\n      <th>3</th>\n      <td>0</td>\n      <td>имел неосторожн оформ потреб кред альф очен жа...</td>\n    </tr>\n    <tr>\n      <th>4</th>\n      <td>0</td>\n      <td>небольш предыстор нашел сайт mdm интересн ко б...</td>\n    </tr>\n  </tbody>\n</table>\n</div>"
     },
     "execution_count": 311,
     "metadata": {},
     "output_type": "execute_result"
    }
   ],
   "source": [
    "tqdm.pandas()\n",
    "\n",
    "data_token = data_train.copy()\n",
    "data_token.Text = data_token.Text.progress_apply(lambda x: tokinize_sentence(x))\n",
    "data_token.head()"
   ],
   "metadata": {
    "collapsed": false,
    "pycharm": {
     "name": "#%%\n"
    }
   }
  },
  {
   "cell_type": "code",
   "execution_count": 312,
   "outputs": [
    {
     "name": "stdout",
     "output_type": "stream",
     "text": [
      "Количество пустых значений:  0\n"
     ]
    }
   ],
   "source": [
    "data = data_token.copy()\n",
    "empty = data[data.Text == '']\n",
    "print('Количество пустых значений: ', len(empty))\n",
    "data = data.drop(empty.index)"
   ],
   "metadata": {
    "collapsed": false,
    "pycharm": {
     "name": "#%%\n"
    }
   }
  },
  {
   "cell_type": "code",
   "execution_count": 313,
   "outputs": [
    {
     "name": "stdout",
     "output_type": "stream",
     "text": [
      "Дубликаты:  0\n"
     ]
    }
   ],
   "source": [
    "print('Дубликаты: ', data.duplicated().sum())"
   ],
   "metadata": {
    "collapsed": false,
    "pycharm": {
     "name": "#%%\n"
    }
   }
  },
  {
   "cell_type": "code",
   "execution_count": 391,
   "outputs": [
    {
     "data": {
      "text/plain": "[('сотрудник', 6365),\n ('счет', 6035),\n ('клиент', 5998),\n ('отделен', 5814),\n ('деньг', 4540)]"
     },
     "execution_count": 391,
     "metadata": {},
     "output_type": "execute_result"
    }
   ],
   "source": [
    "sorted_counter = Counter(' '.join(data_token.Text.values).split()).most_common()\n",
    "sorted_counter[:5]"
   ],
   "metadata": {
    "collapsed": false,
    "pycharm": {
     "name": "#%%\n"
    }
   }
  },
  {
   "cell_type": "code",
   "execution_count": 315,
   "outputs": [
    {
     "data": {
      "text/plain": "<Figure size 1080x720 with 1 Axes>",
      "image/png": "[encoded data removed]"
     },
     "metadata": {
      "needs_background": "light"
     },
     "output_type": "display_data"
    }
   ],
   "source": [
    "plt.figure(figsize=(15, 10))\n",
    "plt.plot([i[0] for i in sorted_counter][:70], [i[1] for i in sorted_counter][:70])\n",
    "plt.xticks(rotation=90)\n",
    "plt.title('Повторяющиеся слова', fontsize=14)\n",
    "plt.show()"
   ],
   "metadata": {
    "collapsed": false,
    "pycharm": {
     "name": "#%%\n"
    }
   }
  },
  {
   "cell_type": "code",
   "execution_count": 316,
   "outputs": [],
   "source": [
    "data_test = pd.read_csv(\"test.csv\", sep=\"\\t\")"
   ],
   "metadata": {
    "collapsed": false,
    "pycharm": {
     "name": "#%%\n"
    }
   }
  },
  {
   "cell_type": "code",
   "execution_count": 392,
   "outputs": [
    {
     "data": {
      "text/plain": "   Score                                               Text\n0      1  альф работа замечательн девушк ильясов орн веж...\n1      0  оформл рассрочк м виде мег тепл стан попрос ме...\n2      1  очен порадова оперативн работ заказа интернет ...\n3      0  имел неосторожн оформ потреб кред альф очен жа...\n4      0  небольш предыстор нашел сайт mdm интересн ко б...",
      "text/html": "<div>\n<style scoped>\n    .dataframe tbody tr th:only-of-type {\n        vertical-align: middle;\n    }\n\n    .dataframe tbody tr th {\n        vertical-align: top;\n    }\n\n    .dataframe thead th {\n        text-align: right;\n    }\n</style>\n<table border=\"1\" class=\"dataframe\">\n  <thead>\n    <tr style=\"text-align: right;\">\n      <th></th>\n      <th>Score</th>\n      <th>Text</th>\n    </tr>\n  </thead>\n  <tbody>\n    <tr>\n      <th>0</th>\n      <td>1</td>\n      <td>альф работа замечательн девушк ильясов орн веж...</td>\n    </tr>\n    <tr>\n      <th>1</th>\n      <td>0</td>\n      <td>оформл рассрочк м виде мег тепл стан попрос ме...</td>\n    </tr>\n    <tr>\n      <th>2</th>\n      <td>1</td>\n      <td>очен порадова оперативн работ заказа интернет ...</td>\n    </tr>\n    <tr>\n      <th>3</th>\n      <td>0</td>\n      <td>имел неосторожн оформ потреб кред альф очен жа...</td>\n    </tr>\n    <tr>\n      <th>4</th>\n      <td>0</td>\n      <td>небольш предыстор нашел сайт mdm интересн ко б...</td>\n    </tr>\n  </tbody>\n</table>\n</div>"
     },
     "execution_count": 392,
     "metadata": {},
     "output_type": "execute_result"
    }
   ],
   "source": [
    "data.head()"
   ],
   "metadata": {
    "collapsed": false,
    "pycharm": {
     "name": "#%%\n"
    }
   }
  },
  {
   "cell_type": "code",
   "execution_count": 362,
   "outputs": [],
   "source": [
    "X_train, X_test, y_train, y_test = train_test_split(data[\"Text\"], data[\"Score\"], test_size=0.20, random_state=311)"
   ],
   "metadata": {
    "collapsed": false,
    "pycharm": {
     "name": "#%%\n"
    }
   }
  },
  {
   "cell_type": "code",
   "execution_count": 363,
   "outputs": [
    {
     "name": "stdout",
     "output_type": "stream",
     "text": [
      "Фичи:  24207\n"
     ]
    }
   ],
   "source": [
    "vectorizer = TfidfVectorizer(ngram_range=(2,4), analyzer='char_wb', max_df=0.8, min_df=10)\n",
    "X_train = vectorizer.fit_transform(X_train)\n",
    "X_test = vectorizer.transform(X_test)\n",
    "\n",
    "print('Фичи: ', len(vectorizer.get_feature_names()))"
   ],
   "metadata": {
    "collapsed": false,
    "pycharm": {
     "name": "#%%\n"
    }
   }
  },
  {
   "cell_type": "code",
   "execution_count": 364,
   "outputs": [],
   "source": [
    "with open(\"vectorizer.bf\", \"+wb\") as file:\n",
    "    pickle.dump(vectorizer, file)"
   ],
   "metadata": {
    "collapsed": false,
    "pycharm": {
     "name": "#%%\n"
    }
   }
  },
  {
   "cell_type": "code",
   "execution_count": 365,
   "outputs": [],
   "source": [
    "model = LogisticRegression(max_iter=10000, C=3, solver='liblinear')"
   ],
   "metadata": {
    "collapsed": false,
    "pycharm": {
     "name": "#%%\n"
    }
   }
  },
  {
   "cell_type": "code",
   "execution_count": 366,
   "outputs": [
    {
     "data": {
      "text/plain": "LogisticRegression(C=3, max_iter=10000, solver='liblinear')"
     },
     "execution_count": 366,
     "metadata": {},
     "output_type": "execute_result"
    }
   ],
   "source": [
    "model.fit(X_train, y_train)"
   ],
   "metadata": {
    "collapsed": false,
    "pycharm": {
     "name": "#%%\n"
    }
   }
  },
  {
   "cell_type": "code",
   "execution_count": 367,
   "outputs": [],
   "source": [
    "y_pred = model.predict(X_test)"
   ],
   "metadata": {
    "collapsed": false,
    "pycharm": {
     "name": "#%%\n"
    }
   }
  },
  {
   "cell_type": "code",
   "execution_count": 368,
   "outputs": [
    {
     "data": {
      "text/plain": "(1456, 1344, 2800)"
     },
     "execution_count": 368,
     "metadata": {},
     "output_type": "execute_result"
    }
   ],
   "source": [
    "list(y_pred).count(0), list(y_pred).count(1), len(y_pred)"
   ],
   "metadata": {
    "collapsed": false,
    "pycharm": {
     "name": "#%%\n"
    }
   }
  },
  {
   "cell_type": "code",
   "execution_count": 369,
   "outputs": [
    {
     "data": {
      "text/plain": "(1400, 1400, 2800)"
     },
     "execution_count": 369,
     "metadata": {},
     "output_type": "execute_result"
    }
   ],
   "source": [
    "list(y_test).count(0), list(y_test).count(1), len(y_test)"
   ],
   "metadata": {
    "collapsed": false,
    "pycharm": {
     "name": "#%%\n"
    }
   }
  },
  {
   "cell_type": "code",
   "execution_count": 370,
   "outputs": [
    {
     "name": "stdout",
     "output_type": "stream",
     "text": [
      "              precision    recall  f1-score   support\n",
      "\n",
      "           0       0.93      0.97      0.95      1400\n",
      "           1       0.97      0.93      0.95      1400\n",
      "\n",
      "    accuracy                           0.95      2800\n",
      "   macro avg       0.95      0.95      0.95      2800\n",
      "weighted avg       0.95      0.95      0.95      2800\n",
      "\n"
     ]
    }
   ],
   "source": [
    "print(classification_report(y_test, y_pred))"
   ],
   "metadata": {
    "collapsed": false,
    "pycharm": {
     "name": "#%%\n"
    }
   }
  },
  {
   "cell_type": "code",
   "execution_count": 371,
   "outputs": [
    {
     "name": "stdout",
     "output_type": "stream",
     "text": [
      "Probability of toxicity: 0.418\n"
     ]
    }
   ],
   "source": [
    "toxic_propabality = model.predict_proba(vectorizer.transform([tokinize_sentence(\"БАНК фигня\")]))[0, 1]\n",
    "print(f'Probability of toxicity: {toxic_propabality:.3f}')"
   ],
   "metadata": {
    "collapsed": false,
    "pycharm": {
     "name": "#%%\n"
    }
   }
  },
  {
   "cell_type": "code",
   "execution_count": 372,
   "outputs": [
    {
     "data": {
      "text/plain": "XGBClassifier(base_score=0.5, booster='gbtree', callbacks=None,\n              colsample_bylevel=1, colsample_bynode=1, colsample_bytree=1,\n              early_stopping_rounds=None, enable_categorical=False,\n              eval_metric=None, gamma=0, gpu_id=-1, grow_policy='depthwise',\n              importance_type=None, interaction_constraints='',\n              learning_rate=0.300000012, max_bin=256, max_cat_to_onehot=4,\n              max_delta_step=0, max_depth=6, max_leaves=0, min_child_weight=1,\n              missing=nan, monotone_constraints='()', n_estimators=100,\n              n_jobs=0, num_parallel_tree=1, predictor='auto', random_state=0,\n              reg_alpha=0, reg_lambda=1, ...)"
     },
     "execution_count": 372,
     "metadata": {},
     "output_type": "execute_result"
    }
   ],
   "source": [
    "model2 = XGBClassifier()\n",
    "model2.fit(X_train, y_train)"
   ],
   "metadata": {
    "collapsed": false,
    "pycharm": {
     "name": "#%%\n"
    }
   }
  },
  {
   "cell_type": "code",
   "execution_count": 373,
   "outputs": [],
   "source": [
    "y_pred = model2.predict(X_test)"
   ],
   "metadata": {
    "collapsed": false,
    "pycharm": {
     "name": "#%%\n"
    }
   }
  },
  {
   "cell_type": "code",
   "execution_count": 374,
   "outputs": [
    {
     "name": "stdout",
     "output_type": "stream",
     "text": [
      "              precision    recall  f1-score   support\n",
      "\n",
      "           0       0.91      0.95      0.93      1400\n",
      "           1       0.95      0.91      0.93      1400\n",
      "\n",
      "    accuracy                           0.93      2800\n",
      "   macro avg       0.93      0.93      0.93      2800\n",
      "weighted avg       0.93      0.93      0.93      2800\n",
      "\n"
     ]
    }
   ],
   "source": [
    "print(classification_report(y_test, y_pred))"
   ],
   "metadata": {
    "collapsed": false,
    "pycharm": {
     "name": "#%%\n"
    }
   }
  },
  {
   "cell_type": "code",
   "execution_count": 375,
   "outputs": [],
   "source": [
    "model3 = GradientBoostingClassifier()"
   ],
   "metadata": {
    "collapsed": false,
    "pycharm": {
     "name": "#%%\n"
    }
   }
  },
  {
   "cell_type": "code",
   "execution_count": 376,
   "outputs": [
    {
     "data": {
      "text/plain": "GradientBoostingClassifier()"
     },
     "execution_count": 376,
     "metadata": {},
     "output_type": "execute_result"
    }
   ],
   "source": [
    "model3.fit(X_train, y_train)"
   ],
   "metadata": {
    "collapsed": false,
    "pycharm": {
     "name": "#%%\n"
    }
   }
  },
  {
   "cell_type": "code",
   "execution_count": 377,
   "outputs": [],
   "source": [
    "y_pred = model3.predict(X_test)"
   ],
   "metadata": {
    "collapsed": false,
    "pycharm": {
     "name": "#%%\n"
    }
   }
  },
  {
   "cell_type": "code",
   "execution_count": 378,
   "outputs": [
    {
     "name": "stdout",
     "output_type": "stream",
     "text": [
      "              precision    recall  f1-score   support\n",
      "\n",
      "           0       0.89      0.94      0.92      1400\n",
      "           1       0.94      0.89      0.91      1400\n",
      "\n",
      "    accuracy                           0.92      2800\n",
      "   macro avg       0.92      0.92      0.91      2800\n",
      "weighted avg       0.92      0.92      0.91      2800\n",
      "\n"
     ]
    }
   ],
   "source": [
    "print(classification_report(y_test, y_pred))"
   ],
   "metadata": {
    "collapsed": false,
    "pycharm": {
     "name": "#%%\n"
    }
   }
  },
  {
   "cell_type": "code",
   "execution_count": 379,
   "outputs": [
    {
     "name": "stderr",
     "output_type": "stream",
     "text": [
      "100%|██████████| 6000/6000 [00:29<00:00, 205.58it/s]\n"
     ]
    },
    {
     "data": {
      "text/plain": "     idx                                               Text\n0  13999  замечательн истор открыт счет авангард рост до...\n1  14000  23 07 14г досрочн внес сумм указа оператор зак...\n2  14001  задолжен кредитн пода суд приказн судопроизвод...\n3  14002  срочн понадоб определен денежн сумм подума поч...\n4  14003  здравств местн отделен бинбанк курчатов курск ...",
      "text/html": "<div>\n<style scoped>\n    .dataframe tbody tr th:only-of-type {\n        vertical-align: middle;\n    }\n\n    .dataframe tbody tr th {\n        vertical-align: top;\n    }\n\n    .dataframe thead th {\n        text-align: right;\n    }\n</style>\n<table border=\"1\" class=\"dataframe\">\n  <thead>\n    <tr style=\"text-align: right;\">\n      <th></th>\n      <th>idx</th>\n      <th>Text</th>\n    </tr>\n  </thead>\n  <tbody>\n    <tr>\n      <th>0</th>\n      <td>13999</td>\n      <td>замечательн истор открыт счет авангард рост до...</td>\n    </tr>\n    <tr>\n      <th>1</th>\n      <td>14000</td>\n      <td>23 07 14г досрочн внес сумм указа оператор зак...</td>\n    </tr>\n    <tr>\n      <th>2</th>\n      <td>14001</td>\n      <td>задолжен кредитн пода суд приказн судопроизвод...</td>\n    </tr>\n    <tr>\n      <th>3</th>\n      <td>14002</td>\n      <td>срочн понадоб определен денежн сумм подума поч...</td>\n    </tr>\n    <tr>\n      <th>4</th>\n      <td>14003</td>\n      <td>здравств местн отделен бинбанк курчатов курск ...</td>\n    </tr>\n  </tbody>\n</table>\n</div>"
     },
     "execution_count": 379,
     "metadata": {},
     "output_type": "execute_result"
    }
   ],
   "source": [
    "tqdm.pandas()\n",
    "\n",
    "data_token = data_test.copy()\n",
    "data_token.Text = data_token.Text.progress_apply(lambda x: tokinize_sentence(x))\n",
    "data_token.head()"
   ],
   "metadata": {
    "collapsed": false,
    "pycharm": {
     "name": "#%%\n"
    }
   }
  },
  {
   "cell_type": "code",
   "execution_count": 380,
   "outputs": [],
   "source": [
    "# data_token.to_csv(\"adfasd.csv\")"
   ],
   "metadata": {
    "collapsed": false,
    "pycharm": {
     "name": "#%%\n"
    }
   }
  },
  {
   "cell_type": "code",
   "execution_count": 381,
   "outputs": [],
   "source": [
    "X_test = vectorizer.transform(data_token.Text)"
   ],
   "metadata": {
    "collapsed": false,
    "pycharm": {
     "name": "#%%\n"
    }
   }
  },
  {
   "cell_type": "code",
   "execution_count": 382,
   "outputs": [],
   "source": [
    "y_pred = model.predict(X_test)"
   ],
   "metadata": {
    "collapsed": false,
    "pycharm": {
     "name": "#%%\n"
    }
   }
  },
  {
   "cell_type": "code",
   "execution_count": 383,
   "outputs": [],
   "source": [
    "data_result = pd.DataFrame()\n",
    "data_result[\"idx\"] = data_token.idx\n",
    "data_result = data_result.set_index(\"idx\")\n",
    "data_result[\"Score\"] = y_pred.copy()\n",
    "data_result.Score = data_result.Score.apply(lambda x: \"Positive\" if x == 1 else \"Negative\")"
   ],
   "metadata": {
    "collapsed": false,
    "pycharm": {
     "name": "#%%\n"
    }
   }
  },
  {
   "cell_type": "code",
   "execution_count": 384,
   "outputs": [
    {
     "data": {
      "text/plain": "          Score\nidx            \n13999  Negative\n14000  Negative\n14001  Negative\n14002  Negative\n14003  Negative",
      "text/html": "<div>\n<style scoped>\n    .dataframe tbody tr th:only-of-type {\n        vertical-align: middle;\n    }\n\n    .dataframe tbody tr th {\n        vertical-align: top;\n    }\n\n    .dataframe thead th {\n        text-align: right;\n    }\n</style>\n<table border=\"1\" class=\"dataframe\">\n  <thead>\n    <tr style=\"text-align: right;\">\n      <th></th>\n      <th>Score</th>\n    </tr>\n    <tr>\n      <th>idx</th>\n      <th></th>\n    </tr>\n  </thead>\n  <tbody>\n    <tr>\n      <th>13999</th>\n      <td>Negative</td>\n    </tr>\n    <tr>\n      <th>14000</th>\n      <td>Negative</td>\n    </tr>\n    <tr>\n      <th>14001</th>\n      <td>Negative</td>\n    </tr>\n    <tr>\n      <th>14002</th>\n      <td>Negative</td>\n    </tr>\n    <tr>\n      <th>14003</th>\n      <td>Negative</td>\n    </tr>\n  </tbody>\n</table>\n</div>"
     },
     "execution_count": 384,
     "metadata": {},
     "output_type": "execute_result"
    }
   ],
   "source": [
    "data_result.head()"
   ],
   "metadata": {
    "collapsed": false,
    "pycharm": {
     "name": "#%%\n"
    }
   }
  },
  {
   "cell_type": "code",
   "execution_count": 385,
   "outputs": [],
   "source": [
    "data_result.to_csv(\"answer.csv\", sep=\"\\t\")"
   ],
   "metadata": {
    "collapsed": false,
    "pycharm": {
     "name": "#%%\n"
    }
   }
  }
 ],
 "metadata": {
  "kernelspec": {
   "display_name": "Python 3",
   "language": "python",
   "name": "python3"
  },
  "language_info": {
   "codemirror_mode": {
    "name": "ipython",
    "version": 2
   },
   "file_extension": ".py",
   "mimetype": "text/x-python",
   "name": "python",
   "nbconvert_exporter": "python",
   "pygments_lexer": "ipython2",
   "version": "2.7.6"
  }
 },
 "nbformat": 4,
 "nbformat_minor": 0
}